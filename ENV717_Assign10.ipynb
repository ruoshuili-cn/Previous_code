{
 "cells": [
  {
   "cell_type": "code",
   "execution_count": 1,
   "metadata": {},
   "outputs": [
    {
     "name": "stdout",
     "output_type": "stream",
     "text": [
      "Populating the interactive namespace from numpy and matplotlib\n"
     ]
    }
   ],
   "source": [
    "%pylab inline\n",
    "import pandas as pd\n",
    "import docplex.mp\n",
    "from docplex.mp.model import Model"
   ]
  },
  {
   "cell_type": "code",
   "execution_count": 2,
   "metadata": {},
   "outputs": [],
   "source": [
    "raw_data=pd.read_excel('C:/Users/Ruosh/Desktop/717/assin/assin10/raw.xlsx',sheet_name='Sheet3', index_col=0)"
   ]
  },
  {
   "cell_type": "code",
   "execution_count": 3,
   "metadata": {},
   "outputs": [],
   "source": [
    "Gen_list=list(raw_data.index)\n",
    "Bus_list=['1','2','3']\n",
    "Line_list=[('1','2'),('2','3'),('1','3')]\n",
    "\n",
    "fuel_price={'NG':3.06, 'Coal': 2.16, 'Oil': 9.83} # $/mmBtu\n",
    "carbon_price=0 # $/ton CO2\n",
    "SO2_stan=0.7 # lbs/mmBtu\n",
    "NOx_stan=0.15 # lbs/mmBtu\n",
    "GHG_stan=600 # lbs/MWh\n",
    "\n",
    "Load=1800"
   ]
  },
  {
   "cell_type": "code",
   "execution_count": 4,
   "metadata": {},
   "outputs": [],
   "source": [
    "# dictionaries about each bus\n",
    "bus1_gen=list((raw_data.loc[raw_data['Bus']==1]).index)\n",
    "bus2_gen=list((raw_data.loc[raw_data['Bus']==2]).index)\n",
    "bus3_gen=list((raw_data.loc[raw_data['Bus']==3]).index)\n",
    "bus_dict={'1': bus1_gen, '2': bus2_gen, '3': bus3_gen}\n",
    "load_dict={'1': 0.15, '2': 0.5, '3': 0.35}\n",
    "\n",
    "# dictionaries about generators\n",
    "fuel_dict=(raw_data.loc[:,'Fuel']).to_dict()\n",
    "maxgen_dict=(raw_data.loc[:,'capacity(MW)']).to_dict() # MW\n",
    "mingen_dict=(raw_data.loc[:,'Min Generation']).to_dict() # MW\n",
    "HR_dict=(raw_data.loc[:,'Heat Rate']).to_dict() # Btu/kWh\n",
    "NOx_dict=(raw_data.loc[:,'Nox']).to_dict() # lb/MWh\n",
    "SO2_dict=(raw_data.loc[:,'SO2']).to_dict() # lb/MWh\n",
    "CO2_dict=(raw_data.loc[:,'CO2']).to_dict() # lb/MWh\n",
    "CH4_dict=(raw_data.loc[:,'CH4']).to_dict() # lb/MWh\n",
    "N2O_dict=(raw_data.loc[:,'N2O']).to_dict() # lb/MWh\n",
    "\n",
    "# dictionaries about three transmission lines\n",
    "line_capacity_dict = dict(zip(Line_list, [1100, 2000, 2000]))\n",
    "line_impedance = dict(zip(Line_list, [0.2,0.2,-0.2]))# here assume to all be 0.2/unit"
   ]
  },
  {
   "cell_type": "code",
   "execution_count": 5,
   "metadata": {},
   "outputs": [],
   "source": [
    "md = Model(name='NicISO Operation')"
   ]
  },
  {
   "cell_type": "code",
   "execution_count": 6,
   "metadata": {},
   "outputs": [],
   "source": [
    "# Decision Variables\n",
    "## hourly generation of each generator (MW)\n",
    "gens = md.continuous_var_dict(keys=Gen_list)\n",
    "flows = md.continuous_var_dict(keys=[('1','2'),('2','3'),('1','3')])"
   ]
  },
  {
   "cell_type": "code",
   "execution_count": 7,
   "metadata": {},
   "outputs": [],
   "source": [
    "# Constraints\n",
    "\n",
    "## Hourly emission constraints\n",
    "# md.add_constraint_(md.sum(gens[g] * 1 * SO2_dict[g] for g in Gen_list if fuel_dict[g]=='Coal') <= SO2_stan * md.sum(gens[g] * HR_dict[g] / 1000 for g in Gen_list if fuel_dict[g]=='Coal'), 'SO2 emission constraint')\n",
    "# md.add_constraint_(md.sum(gens[g] * 1 * NOx_dict[g] for g in Gen_list if fuel_dict[g]=='Coal') <= NOx_stan * md.sum(gens[g] * HR_dict[g] / 1000 for g in Gen_list if fuel_dict[g]=='Coal'), 'NOx emission constraint')\n",
    "# md.add_constraint_(md.sum(gens[g] * 1 * (CO2_dict[g] + CH4_dict[g] + N2O_dict[g]) for g in Gen_list) <= GHG_stan * md.sum(gens[g] for g in Gen_list), 'GHG emission constraint')\n",
    "\n",
    "## KVL\n",
    "md.add_constraint(md.sum(flows[l] * line_impedance[l] for l in Line_list) == 0, 'KVL along the loop')\n",
    "\n",
    "## Bus balance\n",
    "for b in Bus_list:\n",
    "    md.add_constraint(md.sum(gens[g] for g in bus_dict[b]) - Load * load_dict[b] - md.sum(v for k,v in flows.items() if k[0]==b) + md.sum(v for k,v in flows.items() if k[1]==b) ==0, 'Bus balance for '+ b)\n",
    "\n",
    "## Generator constraints\n",
    "md.add_constraints_((gens[g] <= maxgen_dict[g] for g in Gen_list),'Max capacity')\n",
    "md.add_constraints_((gens[g] >= mingen_dict[g] for g in Gen_list),'Min capacity')\n",
    "\n",
    "## Supply meet demand\n",
    "md.add_constraint_(md.sum(gens) == Load, 'Supply meets Demand')\n",
    "\n",
    "\n",
    "## Line capacity\n",
    "# md.add_constraints_(((flows[l]) <= line_capacity_dict[l] for l in Line_list), 'Max line capacity constraint')\n",
    "# md.add_constraints_(((flows[l]) >= -1 * line_capacity_dict[l] for l in Line_list), 'Min line capacity constraint')"
   ]
  },
  {
   "cell_type": "code",
   "execution_count": 8,
   "metadata": {},
   "outputs": [],
   "source": [
    "# Objective\n",
    "coal_generation = md.sum(gens[g] for g in Gen_list if fuel_dict[g]=='Coal')\n",
    "NG_generation = md.sum(gens[g] for g in Gen_list if fuel_dict[g]=='NG')\n",
    "Oil_generation = md.sum(gens[g] for g in Gen_list if fuel_dict[g]=='Oil')\n",
    "#co2_emission = md.sum(gens[g] * CO2_dict[g] for g in Gen_list)\n",
    "coal_consumption = md.sum(gens[g] * HR_dict[g] / 1000 for g in Gen_list if fuel_dict[g]=='Coal')\n",
    "NG_consumption = md.sum(gens[g] * HR_dict[g] / 1000 for g in Gen_list if fuel_dict[g]=='NG')\n",
    "Oil_consumption = md.sum(gens[g] * HR_dict[g] / 1000 for g in Gen_list if fuel_dict[g]=='Oil')\n",
    "md.minimize(coal_consumption * fuel_price['Coal'] + NG_consumption * fuel_price['NG'] + Oil_consumption * fuel_price['Oil'])\n",
    "#+ carbon_price * co2_emission"
   ]
  },
  {
   "cell_type": "code",
   "execution_count": 9,
   "metadata": {
    "scrolled": true
   },
   "outputs": [
    {
     "data": {
      "text/plain": [
       "docplex.mp.solution.SolveSolution(obj=57056.3,values={x1:519.2,x2:1051.2.."
      ]
     },
     "execution_count": 9,
     "metadata": {},
     "output_type": "execute_result"
    }
   ],
   "source": [
    "md.solve()"
   ]
  },
  {
   "cell_type": "code",
   "execution_count": 10,
   "metadata": {},
   "outputs": [
    {
     "name": "stdout",
     "output_type": "stream",
     "text": [
      "solution for: NicISO Operation\n",
      "objective: 57056.348\n",
      "x1 = 519.200\n",
      "x2 = 1051.200\n",
      "x3 = 98.000\n",
      "x4 = 4.000\n",
      "x5 = 127.600\n",
      "x7 = 249.200\n",
      "x8 = 249.200\n"
     ]
    }
   ],
   "source": [
    "solution = md.solve()\n",
    "solution.display()"
   ]
  },
  {
   "cell_type": "code",
   "execution_count": 215,
   "metadata": {},
   "outputs": [
    {
     "data": {
      "text/plain": [
       "docplex.mp.LinearExpr(39.667x1+26.289x2+34.820x3+175.308x4+36.931x5)"
      ]
     },
     "execution_count": 215,
     "metadata": {},
     "output_type": "execute_result"
    }
   ],
   "source": [
    "md.objective_expr"
   ]
  },
  {
   "cell_type": "code",
   "execution_count": 216,
   "metadata": {},
   "outputs": [
    {
     "data": {
      "text/plain": [
       "True"
      ]
     },
     "execution_count": 216,
     "metadata": {},
     "output_type": "execute_result"
    }
   ],
   "source": [
    "md.is_optimized()"
   ]
  },
  {
   "cell_type": "code",
   "execution_count": 217,
   "metadata": {},
   "outputs": [
    {
     "data": {
      "text/plain": [
       "[<BasisStatus.Basic: 1>,\n",
       " <BasisStatus.AtLowerBound: 0>,\n",
       " <BasisStatus.Basic: 1>,\n",
       " <BasisStatus.Basic: 1>,\n",
       " <BasisStatus.Basic: 1>,\n",
       " <BasisStatus.Basic: 1>,\n",
       " <BasisStatus.Basic: 1>,\n",
       " <BasisStatus.Basic: 1>,\n",
       " <BasisStatus.AtLowerBound: 0>,\n",
       " <BasisStatus.AtLowerBound: 0>,\n",
       " <BasisStatus.Basic: 1>,\n",
       " <BasisStatus.AtLowerBound: 0>,\n",
       " <BasisStatus.AtLowerBound: 0>,\n",
       " <BasisStatus.AtLowerBound: 0>,\n",
       " <BasisStatus.AtLowerBound: 0>]"
      ]
     },
     "execution_count": 217,
     "metadata": {},
     "output_type": "execute_result"
    }
   ],
   "source": [
    "md.linear_constraint_basis_statuses(md.iter_linear_constraints())"
   ]
  },
  {
   "cell_type": "code",
   "execution_count": 218,
   "metadata": {},
   "outputs": [
    {
     "data": {
      "text/plain": [
       "15"
      ]
     },
     "execution_count": 218,
     "metadata": {},
     "output_type": "execute_result"
    }
   ],
   "source": [
    "md.number_of_constraints"
   ]
  },
  {
   "cell_type": "code",
   "execution_count": 219,
   "metadata": {
    "scrolled": true
   },
   "outputs": [
    {
     "name": "stdout",
     "output_type": "stream",
     "text": [
      "x1\n",
      "x2\n",
      "x3\n",
      "x4\n",
      "x5\n",
      "x6\n",
      "x7\n",
      "x8\n"
     ]
    }
   ],
   "source": [
    "for i in md.iter_variables():\n",
    "    print(i)"
   ]
  },
  {
   "cell_type": "code",
   "execution_count": 220,
   "metadata": {},
   "outputs": [
    {
     "name": "stdout",
     "output_type": "stream",
     "text": [
      "Supply meets Demand: x1+x2+x3+x4+x5 == 1800\n",
      "Max capacity1: x1 <= 519.2\n",
      "Max capacity2: x2 <= 1848.0\n",
      "Max capacity3: x3 <= 656.1\n",
      "Max capacity4: x4 <= 27.0\n",
      "Max capacity5: x5 <= 398.3\n",
      "Min capacity1: x1 >= 78\n",
      "Min capacity2: x2 >= 277\n",
      "Min capacity3: x3 >= 98\n",
      "Min capacity4: x4 >= 4\n",
      "Min capacity5: x5 >= 60\n",
      "Bus balance for 1: x1-x6-x8-270 == 0\n",
      "Bus balance for 2: x2+x3+x6-x7-900 == 0\n",
      "Bus balance for 3: x4+x5+x7+x8-630 == 0\n",
      "KVL along the loop: 0.200x6+0.200x7-0.200x8 == 0\n"
     ]
    }
   ],
   "source": [
    "for i in md.iter_linear_constraints():\n",
    "    print(i)"
   ]
  },
  {
   "cell_type": "code",
   "execution_count": null,
   "metadata": {},
   "outputs": [],
   "source": []
  }
 ],
 "metadata": {
  "kernelspec": {
   "display_name": "Python 3",
   "language": "python",
   "name": "python3"
  },
  "language_info": {
   "codemirror_mode": {
    "name": "ipython",
    "version": 3
   },
   "file_extension": ".py",
   "mimetype": "text/x-python",
   "name": "python",
   "nbconvert_exporter": "python",
   "pygments_lexer": "ipython3",
   "version": "3.6.8"
  }
 },
 "nbformat": 4,
 "nbformat_minor": 2
}
