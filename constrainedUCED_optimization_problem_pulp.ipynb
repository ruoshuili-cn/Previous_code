{
 "cells": [
  {
   "cell_type": "code",
   "execution_count": 1,
   "metadata": {},
   "outputs": [
    {
     "name": "stdout",
     "output_type": "stream",
     "text": [
      "Populating the interactive namespace from numpy and matplotlib\n"
     ]
    }
   ],
   "source": [
    "%pylab inline\n",
    "from pulp import *\n",
    "import pandas as pd\n",
    "import os"
   ]
  },
  {
   "cell_type": "markdown",
   "metadata": {},
   "source": [
    "### Read data and set user-defined parameters\n",
    "Only update data, change buses/lines setting, change fuel price/emission standard in this section"
   ]
  },
  {
   "cell_type": "code",
   "execution_count": 48,
   "metadata": {},
   "outputs": [],
   "source": [
    "# Generator data (update in raw excel file with same format)\n",
    "raw_data=pd.read_excel('/raw.xlsx',sheet_name='Sheet2', index_col=0)\n",
    "\n",
    "# Load data in different time and season need to be dispatched\n",
    "load_data=pd.read_excel('/loaddata.xlsx')"
   ]
  },
  {
   "cell_type": "code",
   "execution_count": 49,
   "metadata": {},
   "outputs": [],
   "source": [
    "# required model input (can have different generator list, bus number and lines)\n",
    "Gen_list=list(raw_data.index)\n",
    "Bus_list=['1','2','3']\n",
    "Line_list=[('1','2'),('2','3'),('1','3')]\n",
    "\n",
    "load_dict={'1': 0.15, '2': 0.5, '3': 0.35}\n",
    "\n",
    "fuel_price={'NG':3.06, 'Coal': 2.16, 'Oil': 9.83} # $/mmBtu\n",
    "SO2_stan=0.7 # lbs/mmBtu\n",
    "NOx_stan=0.15 # lbs/mmBtu\n",
    "GHG_stan=600 # lbs/MWh\n",
    "carbon_price=0 # $/ton\n",
    "\n",
    "## parameters of transmission lines\n",
    "line_capacity_dict = dict(zip(Line_list, [1100, 2000, 2000]))\n",
    "line_impedance = dict(zip(Line_list, [0.2,0.2,-0.2]))# here assume to all be 0.2/unit"
   ]
  },
  {
   "cell_type": "markdown",
   "metadata": {},
   "source": [
    "### Pre-process data and make dictionaries"
   ]
  },
  {
   "cell_type": "code",
   "execution_count": 50,
   "metadata": {},
   "outputs": [],
   "source": [
    "# first calculate MC of each generator\n",
    "raw_data['fuel_cost']=raw_data.apply(lambda x: fuel_price[x['Fuel']], axis=1) #$/mmbtu\n",
    "raw_data['carbon_cost']=raw_data.apply(lambda x: x['CO2']* carbon_price/2205, axis=1 ) # 1 metric ton CO2 = 2205 lb, gives $/MWh\n",
    "raw_data['MC']=raw_data.apply(lambda x: x['fuel_cost']*x['Heat Rate']/1000 + x['carbon_cost'], axis=1) # $/MWh"
   ]
  },
  {
   "cell_type": "code",
   "execution_count": 54,
   "metadata": {},
   "outputs": [],
   "source": [
    "# Build dictionaries\n",
    "\n",
    "## dictionaries about each bus\n",
    "bus1_gen=list((raw_data.loc[raw_data['Bus']==1]).index)\n",
    "bus2_gen=list((raw_data.loc[raw_data['Bus']==2]).index)\n",
    "bus3_gen=list((raw_data.loc[raw_data['Bus']==3]).index)\n",
    "bus_dict={'1': bus1_gen, '2': bus2_gen, '3': bus3_gen}\n",
    "\n",
    "## dictionaries about generators\n",
    "mc_dict=(raw_data.loc[:,'MC']).to_dict() # $/MWh\n",
    "fuel_dict=(raw_data.loc[:,'Fuel']).to_dict()\n",
    "maxgen_dict=(raw_data.loc[:,'capacity(MW)']).to_dict() # MW\n",
    "mingen_dict=(raw_data.loc[:,'Min Generation']).to_dict() # MW\n",
    "HR_dict=(raw_data.loc[:,'Heat Rate']).to_dict() # Btu/kWh\n",
    "NOx_dict=(raw_data.loc[:,'Nox']).to_dict() # lb/MWh\n",
    "SO2_dict=(raw_data.loc[:,'SO2']).to_dict() # lb/MWh\n",
    "CO2_dict=(raw_data.loc[:,'CO2']).to_dict() # lb/MWh\n",
    "CH4_dict=(raw_data.loc[:,'CH4']).to_dict() # lb/MWh\n",
    "N2O_dict=(raw_data.loc[:,'N2O']).to_dict() # lb/MWh"
   ]
  },
  {
   "cell_type": "markdown",
   "metadata": {},
   "source": [
    "### Solve and collect results"
   ]
  },
  {
   "cell_type": "code",
   "execution_count": 55,
   "metadata": {},
   "outputs": [],
   "source": [
    "# this is the core function to solve the constrained dispatch problem\n",
    "# load: MW; inclde_emission_cst = False during early planning\n",
    "def solve(Load,include_emission_cst): \n",
    "    # Define optimization problem\n",
    "    prob = LpProblem('Constrained UCED', LpMinimize)\n",
    "    \n",
    "    # Decision variables\n",
    "    gens= LpVariable.dicts('generation',Gen_list)\n",
    "    flows= LpVariable.dicts('flow', Line_list)\n",
    "\n",
    "    # Add Constraints\n",
    "    ## Supply meets demand\n",
    "    prob += Load - lpSum(gens[g] for g in Gen_list) >= 0, 'Supply meet demand'\n",
    "    ## Generator constraints\n",
    "    for g in Gen_list:\n",
    "        prob += gens[g] <= maxgen_dict[g], 'Max generation for '+ g\n",
    "        prob += gens[g] >= mingen_dict[g], 'Min generation for ' + g  \n",
    "    ## Transmission line constraints:\n",
    "    for l in Line_list:\n",
    "        prob += flows[l] <= line_capacity_dict[l], 'Max transmission capacity for line ' + l[0] + l[1]\n",
    "        prob += flows[l] >= -line_capacity_dict[l], 'Inverse max transmission capacity for line ' + l[0] + l[1] \n",
    "    ## Bus balance\n",
    "    for b in Bus_list:\n",
    "        prob += lpSum(gens[g] for g in bus_dict[b]) - lpSum(v for k,v in flows.items() if k[0]==b) + lpSum(v for k,v in flows.items() if k[1]==b) >= Load * load_dict[b] , 'Bus balance for '+ b\n",
    "    ## KVL\n",
    "    prob += lpSum(flows[l]*line_impedance[l] for l in Line_list) == 0, 'KVL along the loop'    \n",
    "    ## hourly emissions\n",
    "    if include_emission_cst:\n",
    "        print('SO2, NOx and GHG emission standard constraints are included')\n",
    "        prob += lpSum(gens[g] * 1 * SO2_dict[g] for g in Gen_list if fuel_dict[g]=='Coal') <= SO2_stan * lpSum(gens[g] * HR_dict[g] / 1000 for g in Gen_list if fuel_dict[g]=='Coal'), 'SO2 emission constraint'\n",
    "        prob += lpSum(gens[g] * 1 * NOx_dict[g] for g in Gen_list if fuel_dict[g]=='Coal') <= NOx_stan * lpSum(gens[g] * HR_dict[g] / 1000 for g in Gen_list if fuel_dict[g]=='Coal'), 'NOx emission constraint'\n",
    "        prob += lpSum(gens[g] * 1 * (CO2_dict[g] + CH4_dict[g] + N2O_dict[g]) for g in Gen_list) <= GHG_stan * lpSum(gens[g] for g in Gen_list), 'GHG emission constraint'\n",
    "\n",
    "    # Objective function\n",
    "    prob += lpSum(gens[g] * mc_dict[g] for g in Gen_list)\n",
    "    \n",
    "    # Other kpis\n",
    "    coal_CO2 = LpAffineExpression([(gens[g],CO2_dict[g]) for g in Gen_list if fuel_dict[g]=='Coal'])\n",
    "    NG_CO2 = LpAffineExpression([(gens[g],CO2_dict[g]) for g in Gen_list if fuel_dict[g]=='NG'])\n",
    "    Oil_CO2 = LpAffineExpression([(gens[g],CO2_dict[g]) for g in Gen_list if fuel_dict[g]=='Oil'])\n",
    "    \n",
    "    coal_consumption = LpAffineExpression([(gens[g], HR_dict[g] / 1000) for g in Gen_list if fuel_dict[g]=='Coal'])\n",
    "    NG_consumption = LpAffineExpression([(gens[g] , HR_dict[g] / 1000) for g in Gen_list if fuel_dict[g]=='NG'])\n",
    "    Oil_consumption = LpAffineExpression([(gens[g] , HR_dict[g] / 1000) for g in Gen_list if fuel_dict[g]=='Oil'])\n",
    "    \n",
    "    CO2_emission = LpAffineExpression([(gens[g] , CO2_dict[g]) for g in Gen_list])    \n",
    "    \n",
    "    # solve results\n",
    "    prob.solve()\n",
    "    print(\"The dispatch solution of \", Load, \"is: \", LpStatus[prob.status])\n",
    "    total_cost=value(prob.objective)\n",
    "    generation_schedule=[]\n",
    "    for v in prob.variables():\n",
    "        if v.name.find(\"flow\")!= 0:\n",
    "            generation_schedule.append([v.name.split('_')[1], v.varValue])\n",
    "        else:\n",
    "            generation_schedule.append([v.name.split('flow_')[1], v.varValue])\n",
    "    shp = pd.DataFrame([{'Constraint_name':name, 'shadow_price':c.pi, 'slack':c.slack}\n",
    "                for name, c in prob.constraints.items()])\n",
    "    kpis={'Load value': Load, 'Total cost($)':total_cost, 'Coal_co2': value(coal_CO2),'NG_co2': value(NG_CO2), 'Oil_co2': value(Oil_CO2),\n",
    "    'Coal_consum (mmbtu)': value(coal_consumption),'NG_consum (mmbtu)': value(NG_consumption), 'Oil_consum (mmbtu)': value(Oil_consumption),\n",
    "    'CO2_emission (lb)': value(CO2_emission)}\n",
    "    solution_kpi=pd.DataFrame(kpis, index=[0])\n",
    "    \n",
    "    return (generation_schedule, shp, solution_kpi)"
   ]
  },
  {
   "cell_type": "code",
   "execution_count": 56,
   "metadata": {
    "collapsed": true
   },
   "outputs": [
    {
     "name": "stdout",
     "output_type": "stream",
     "text": [
      "The dispatch solution of  4198 is:  Optimal\n",
      "The dispatch solution of  4765 is:  Optimal\n",
      "The dispatch solution of  5974 is:  Optimal\n",
      "The dispatch solution of  4359 is:  Optimal\n",
      "The dispatch solution of  3726 is:  Optimal\n",
      "The dispatch solution of  4050 is:  Optimal\n",
      "The dispatch solution of  5009 is:  Optimal\n",
      "The dispatch solution of  3780 is:  Optimal\n",
      "The dispatch solution of  6189 is:  Optimal\n",
      "The dispatch solution of  6951 is:  Optimal\n",
      "The dispatch solution of  7618 is:  Optimal\n",
      "The dispatch solution of  6653 is:  Optimal\n",
      "The dispatch solution of  5749 is:  Optimal\n",
      "The dispatch solution of  6501 is:  Optimal\n",
      "The dispatch solution of  7338 is:  Optimal\n",
      "The dispatch solution of  6389 is:  Optimal\n"
     ]
    }
   ],
   "source": [
    "# collect results\n",
    "df_kpi=pd.DataFrame(columns=('Load value','Total cost($)','Coal_co2','NG_co2','Oil_co2','Coal_consum (mmbtu)','NG_consum (mmbtu)','Oil_consum (mmbtu)','CO2_emission (lb)'))\n",
    "writer_gs=pd.ExcelWriter('/generation_schedule_sort.xlsx',engine='openpyxl')\n",
    "writer_shp=pd.ExcelWriter('/shadow_price.xlsx',engine='openpyxl')\n",
    "custom_order=Gen_list.copy()\n",
    "custom_order.extend([\"('1',_'2')\", \"('1',_'3')\", \"('2',_'3')\"])\n",
    "\n",
    "for loads in load_data['Load value'].values:\n",
    "    generation_schedule, shp, solution_kpi=solve(loads,include_emission_cst=False)\n",
    "    df_kpi=pd.concat([df_kpi, solution_kpi])\n",
    "    df_gs=pd.DataFrame(generation_schedule, columns=['Variables','Value'])\n",
    "    df_gs['Variables']=df_gs['Variables'].astype('category')\n",
    "    df_gs['Variables'].cat.reorder_categories(custom_order, inplace=True)\n",
    "    df_gs.sort_values('Variables', inplace=True)\n",
    "    df_gs.to_excel(excel_writer=writer_gs, sheet_name=str(loads))\n",
    "    shp.to_excel(excel_writer=writer_shp, sheet_name=str(loads))\n",
    "    writer_gs.save()\n",
    "    writer_shp.save()\n",
    "\n",
    "all_load_data=pd.merge(load_data, df_kpi, on=(['Load value']), how='outer')\n",
    "all_load_data.to_excel('/kpis.xlsx')"
   ]
  }
 ],
 "metadata": {
  "kernelspec": {
   "display_name": "Python 3",
   "language": "python",
   "name": "python3"
  },
  "language_info": {
   "codemirror_mode": {
    "name": "ipython",
    "version": 3
   },
   "file_extension": ".py",
   "mimetype": "text/x-python",
   "name": "python",
   "nbconvert_exporter": "python",
   "pygments_lexer": "ipython3",
   "version": "3.6.8"
  }
 },
 "nbformat": 4,
 "nbformat_minor": 2
}
